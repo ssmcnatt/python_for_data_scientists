{
 "cells": [
  {
   "cell_type": "code",
   "execution_count": 1,
   "metadata": {
    "colab": {
     "base_uri": "https://localhost:8080/",
     "height": 34
    },
    "colab_type": "code",
    "executionInfo": {
     "elapsed": 774,
     "status": "ok",
     "timestamp": 1590506443882,
     "user": {
      "displayName": "Steve McNatt",
      "photoUrl": "https://lh3.googleusercontent.com/a-/AOh14GjFZGJy8NcE9cSCrVbJdAXrHc_AX3oZmz_5pSiczw=s64",
      "userId": "17122454985167578805"
     },
     "user_tz": 300
    },
    "id": "wgdkHzNRki4P",
    "outputId": "21822374-93d3-45f7-edb5-83e3e1b37908"
   },
   "outputs": [
    {
     "name": "stdout",
     "output_type": "stream",
     "text": [
      "hello world from imported jupyter notebook\n"
     ]
    }
   ],
   "source": [
    "print('hello world from imported jupyter notebook')"
   ]
  }
 ],
 "metadata": {
  "colab": {
   "name": "jupyter-import-colab.ipynb",
   "provenance": []
  },
  "kernelspec": {
   "display_name": "Python 3",
   "language": "python",
   "name": "python3"
  },
  "language_info": {
   "codemirror_mode": {
    "name": "ipython",
    "version": 3
   },
   "file_extension": ".py",
   "mimetype": "text/x-python",
   "name": "python",
   "nbconvert_exporter": "python",
   "pygments_lexer": "ipython3",
   "version": "3.7.0"
  }
 },
 "nbformat": 4,
 "nbformat_minor": 0
}
