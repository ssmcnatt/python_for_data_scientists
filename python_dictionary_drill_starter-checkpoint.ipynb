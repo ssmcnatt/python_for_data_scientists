{
 "cells": [
  {
   "cell_type": "markdown",
   "metadata": {
    "colab_type": "text",
    "id": "xbD6RehxJb2e"
   },
   "source": [
    "## 1: `fillable`\n",
    "\n",
    "You're running an online business and a big part of your day is fulfilling orders. As your volume picks up that's been taking more of your time, and unfortunately lately you've been running into situations where you take an order but can't fulfill it.\n",
    "\n",
    "You've decided to write a function `fillable` that takes three arguments: a dictionary stock representing all the merchandise you have in stock, a string merch representing the thing your customer wants to buy, and an integer `n` representing the number of units of merch they would like to buy. Your function should return `True` if you have the merchandise in stock to complete the sale, otherwise it should return `False`.\n",
    "\n",
    "Valid data will always be passed in and n will always be >= 1."
   ]
  },
  {
   "cell_type": "code",
   "execution_count": 0,
   "metadata": {
    "colab": {
     "base_uri": "https://localhost:8080/",
     "height": 85
    },
    "colab_type": "code",
    "executionInfo": {
     "elapsed": 291,
     "status": "ok",
     "timestamp": 1590600682021,
     "user": {
      "displayName": "Steve McNatt",
      "photoUrl": "https://lh3.googleusercontent.com/a-/AOh14GjFZGJy8NcE9cSCrVbJdAXrHc_AX3oZmz_5pSiczw=s64",
      "userId": "17122454985167578805"
     },
     "user_tz": 300
    },
    "id": "3O3i8mKOJb2h",
    "outputId": "a19d909d-60e3-4dba-eb46-42e581c8ac99"
   },
   "outputs": [
    {
     "name": "stdout",
     "output_type": "stream",
     "text": [
      "True\n",
      "False\n",
      "True\n",
      "False\n"
     ]
    }
   ],
   "source": [
    "def fillable(stock, item, count):\n",
    "    if item in stock and stock[item] >= count:\n",
    "        return True\n",
    "    else:\n",
    "        return False\n",
    "\n",
    "stock = {'apples': 10, 'oranges': 2, 'bananas': 5}\n",
    "print(fillable(stock, 'apples', 10))\n",
    "print(fillable(stock, 'apples', 12))\n",
    "print(fillable(stock, 'bananas', 2))\n",
    "print(fillable(stock, 'cherries', 2))"
   ]
  },
  {
   "cell_type": "markdown",
   "metadata": {
    "colab_type": "text",
    "id": "W4gdTHVCJb2p"
   },
   "source": [
    "## 2: user_contacts\n",
    "\n",
    "You're putting together contact information for all the users of your website to ship them a small gift. You queried your database and got back a list of users, where each user is another list with up to two items: a string representing the user's name and their shipping zip code. Example data might look like:\n",
    "\n",
    "```python\n",
    "[[\"Grae Drake\", 98110], [\"Bethany Kok\"], [\"Alex Nussbacher\", 94101], [\"Darrell Silver\", 11201]]\n",
    "```\n",
    "\n",
    "Notice that one of the users above has a name but doesn't have a zip code.\n",
    "\n",
    "Write a function `user_contacts` that takes a two-dimensional list like the one above and returns a dictionary with an item for each user where the key is the user's name and the value is the user's zip code. If your data doesn't include a zip code then the value should be `None`.\n",
    "\n",
    "For example, using the input above, user_contacts would return this dictionary:\n",
    "\n",
    "```python\n",
    "{\n",
    "    \"Grae Drake\": 98110,\n",
    "    \"Bethany Kok\": None,\n",
    "    \"Alex Nussbacher\": 94101,\n",
    "    \"Darrell Silver\": 11201,    \n",
    "}\n",
    "```\n",
    "\n",
    "You don't have to worry about leading zeros in zip codes."
   ]
  },
  {
   "cell_type": "code",
   "execution_count": 0,
   "metadata": {
    "colab": {
     "base_uri": "https://localhost:8080/",
     "height": 34
    },
    "colab_type": "code",
    "executionInfo": {
     "elapsed": 376,
     "status": "ok",
     "timestamp": 1590601435028,
     "user": {
      "displayName": "Steve McNatt",
      "photoUrl": "https://lh3.googleusercontent.com/a-/AOh14GjFZGJy8NcE9cSCrVbJdAXrHc_AX3oZmz_5pSiczw=s64",
      "userId": "17122454985167578805"
     },
     "user_tz": 300
    },
    "id": "wdaRbfjmJb2q",
    "outputId": "5a563522-a87f-4c36-9886-db1cbd92a652"
   },
   "outputs": [
    {
     "name": "stdout",
     "output_type": "stream",
     "text": [
      "{'Grae Drake': 98110, 'Bethany Kok': None, 'Alex Nussbacher': 94101, 'Darrell Silver': 11201}\n"
     ]
    }
   ],
   "source": [
    "def user_contacts(user_list):\n",
    "    user_dict = {}\n",
    "    for user in user_list:\n",
    "        if (len(user) == 1):\n",
    "            user_dict[user[0]] = None\n",
    "        else:\n",
    "            user_dict[user[0]] = user[1]\n",
    "    \n",
    "    return user_dict\n",
    "\n",
    "print(user_contacts([[\"Grae Drake\", 98110], [\"Bethany Kok\"], [\"Alex Nussbacher\", 94101], [\"Darrell Silver\", 11201]]))"
   ]
  }
 ],
 "metadata": {
  "colab": {
   "name": "python_dictionary_drill_starter.ipynb",
   "provenance": []
  },
  "kernelspec": {
   "display_name": "Python 3",
   "language": "python",
   "name": "python3"
  },
  "language_info": {
   "codemirror_mode": {
    "name": "ipython",
    "version": 3
   },
   "file_extension": ".py",
   "mimetype": "text/x-python",
   "name": "python",
   "nbconvert_exporter": "python",
   "pygments_lexer": "ipython3",
   "version": "3.7.0"
  }
 },
 "nbformat": 4,
 "nbformat_minor": 0
}
