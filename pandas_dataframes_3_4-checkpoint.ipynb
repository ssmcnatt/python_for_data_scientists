{
 "cells": [
  {
   "cell_type": "code",
   "execution_count": 41,
   "metadata": {
    "colab": {
     "base_uri": "https://localhost:8080/",
     "height": 51
    },
    "colab_type": "code",
    "executionInfo": {
     "elapsed": 365,
     "status": "ok",
     "timestamp": 1591128592616,
     "user": {
      "displayName": "Steve McNatt",
      "photoUrl": "https://lh3.googleusercontent.com/a-/AOh14GjFZGJy8NcE9cSCrVbJdAXrHc_AX3oZmz_5pSiczw=s64",
      "userId": "17122454985167578805"
     },
     "user_tz": 300
    },
    "id": "X9OaDaocvLS7",
    "outputId": "49abbc9b-acb8-4250-f4af-dc5497870d28"
   },
   "outputs": [
    {
     "name": "stdout",
     "output_type": "stream",
     "text": [
      "Number of rows: 1460\n"
     ]
    },
    {
     "data": {
      "text/plain": [
       "(0.2638433538714057, 1.1231391549193063e-24)"
      ]
     },
     "execution_count": 41,
     "metadata": {
      "tags": []
     },
     "output_type": "execute_result"
    }
   ],
   "source": [
    "import pandas as pd\n",
    "from scipy import stats\n",
    "import math\n",
    "\n",
    "data_file = '/content/drive/My Drive/python_for_data_scientists/data/houseprices.csv'\n",
    "\n",
    "houseprices = pd.read_csv(data_file)\n",
    "print('Number of rows: {}'.format(houseprices.shape[0]))\n",
    "\n",
    "houseprices.isnull()\n",
    "houseprices['mszoning'].nunique()\n",
    "houseprices['street'].nunique()\n",
    "houseprices['saleprice'].describe()\n",
    "houseprices['lotarea'].describe()\n",
    "\n",
    "houseprices_clean = houseprices.dropna(subset=['saleprice', 'openporchsf'])\n",
    "open_porch = houseprices_clean[houseprices_clean.openporchsf > 0]\n",
    "no_open_porch = houseprices_clean[houseprices_clean.openporchsf == 0]\n",
    "stats.ttest_ind(open_porch['saleprice'], no_open_porch['saleprice'])\n",
    "\n",
    "houseprices[['lotarea', 'saleprice']].corr()\n",
    "stats.pearsonr(houseprices['lotarea'], houseprices['saleprice'])"
   ]
  }
 ],
 "metadata": {
  "colab": {
   "authorship_tag": "ABX9TyMRRXyD1P6QHVHvbAjiNJu+",
   "mount_file_id": "1ZIEjzHM9dgkf8e3vi-UIiTKGJzAX-beg",
   "name": "pandas_dataframes_3_4.ipynb",
   "provenance": []
  },
  "kernelspec": {
   "display_name": "Python 3",
   "name": "python3"
  }
 },
 "nbformat": 4,
 "nbformat_minor": 0
}
