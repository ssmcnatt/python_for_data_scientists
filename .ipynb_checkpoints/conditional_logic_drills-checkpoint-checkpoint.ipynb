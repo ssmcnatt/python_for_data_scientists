{
 "cells": [
  {
   "cell_type": "markdown",
   "metadata": {
    "colab_type": "text",
    "id": "rYszP9sIrvoy"
   },
   "source": [
    "## 1:  `take_umbrella`\n",
    "\n",
    "Write a function called `take_umbrella` that takes two arguments: a string representing the current weather and a float representing the chance of rain today.\n",
    "\n",
    "Your function should return `True` or `False` based on the following criteria.\n",
    "\n",
    "You should take an umbrella if it's currently raining or if it's cloudy and the chance of rain is over 0.20.\n",
    "You shouldn't take an umbrella if it's sunny unless it's more likely to rain than not.\n",
    "The options for the current weather are sunny, cloudy, and rainy.\n",
    "\n",
    "For example, `take_umbrella('sunny', 0.40)` should return `False`.\n",
    "\n",
    "As an additional challenge, consider solving this kata using only logical operaters and not using any if statements."
   ]
  },
  {
   "cell_type": "code",
   "execution_count": 2,
   "metadata": {
    "colab": {
     "base_uri": "https://localhost:8080/",
     "height": 119
    },
    "colab_type": "code",
    "executionInfo": {
     "elapsed": 698,
     "status": "ok",
     "timestamp": 1590528862647,
     "user": {
      "displayName": "Steve McNatt",
      "photoUrl": "https://lh3.googleusercontent.com/a-/AOh14GjFZGJy8NcE9cSCrVbJdAXrHc_AX3oZmz_5pSiczw=s64",
      "userId": "17122454985167578805"
     },
     "user_tz": 300
    },
    "id": "TSDg4gmFrvo0",
    "outputId": "ed6b45fa-ac87-496d-a77f-9d98cf67ee67"
   },
   "outputs": [
    {
     "name": "stdout",
     "output_type": "stream",
     "text": [
      "False\n",
      "True\n",
      "False\n",
      "True\n",
      "True\n",
      "True\n"
     ]
    }
   ],
   "source": [
    "def take_umbrella(weather, rain_chance):\n",
    "  if weather == 'sunny':\n",
    "    if rain_chance > 0.5:\n",
    "      return True\n",
    "    else:\n",
    "      return False\n",
    "  elif weather == 'cloudy':\n",
    "    if rain_chance > 0.2:\n",
    "      return True\n",
    "    else:\n",
    "      return False\n",
    "  elif weather == 'rainy':\n",
    "    return True\n",
    "  else:\n",
    "    return 'Invalid weather input'\n",
    "\n",
    "print(take_umbrella('sunny', 0.40))\n",
    "print(take_umbrella('sunny', 0.55))\n",
    "print(take_umbrella('cloudy', 0.10))\n",
    "print(take_umbrella('cloudy', 0.25))\n",
    "print(take_umbrella('rainy', 0.05))\n",
    "print(take_umbrella('rainy', 0.25))"
   ]
  },
  {
   "cell_type": "code",
   "execution_count": 0,
   "metadata": {
    "colab": {
     "base_uri": "https://localhost:8080/",
     "height": 119
    },
    "colab_type": "code",
    "executionInfo": {
     "elapsed": 698,
     "status": "ok",
     "timestamp": 1590528862667,
     "user": {
      "displayName": "Steve McNatt",
      "photoUrl": "https://lh3.googleusercontent.com/a-/AOh14GjFZGJy8NcE9cSCrVbJdAXrHc_AX3oZmz_5pSiczw=s64",
      "userId": "17122454985167578805"
     },
     "user_tz": 300
    },
    "id": "CPEkade906cD",
    "outputId": "830bf6ac-6aab-4b75-bda7-42067f81281d"
   },
   "outputs": [
    {
     "name": "stdout",
     "output_type": "stream",
     "text": [
      "False\n",
      "True\n",
      "False\n",
      "True\n",
      "True\n",
      "True\n"
     ]
    }
   ],
   "source": [
    "def take_umbrella(weather, rain_chance):\n",
    "\n",
    "  return (weather == 'sunny' and rain_chance > 0.5) or (weather == 'cloudy' and rain_chance > 0.2) or (weather == 'rainy')\n",
    "\n",
    "print(take_umbrella('sunny', 0.40))\n",
    "print(take_umbrella('sunny', 0.55))\n",
    "print(take_umbrella('cloudy', 0.10))\n",
    "print(take_umbrella('cloudy', 0.25))\n",
    "print(take_umbrella('rainy', 0.05))\n",
    "print(take_umbrella('rainy', 0.25))"
   ]
  },
  {
   "cell_type": "markdown",
   "metadata": {
    "colab_type": "text",
    "id": "pQ_X8vh5rvpC"
   },
   "source": [
    "## 2: `color probability`\n",
    "\n",
    "You're playing a game with a friend involving a bag of marbles. In the bag are ten marbles:\n",
    "\n",
    "- 1 smooth red marble\n",
    "- 4 bumpy red marbles\n",
    "- 2 bumpy yellow marbles\n",
    "- 1 smooth yellow marble\n",
    "- 1 bumpy green marble\n",
    "- 1 smooth green marble\n",
    "\n",
    "You can see that the probability of picking a smooth red marble from the bag is 1 / 10 or 0.10 and the probability of picking a bumpy yellow marble is 2 / 10 or 0.20.\n",
    "\n",
    "The game works like this: your friend puts her hand in the bag, chooses a marble (without looking at it) and tells you whether it's bumpy or smooth. Then you have to guess which color it is before she pulls it out and reveals whether you're correct or not.\n",
    "\n",
    "You know that the information about whether the marble is bumpy or smooth changes the probability of what color it is, and you want some help with your guesses.\n",
    "\n",
    "Write a function `color_probability` that takes two arguments: a color ('red', 'yellow', or 'green') and a texture ('bumpy' or 'smooth') and returns the probability of drawing that combination as a decimal fraction accurate to two places.\n",
    "\n",
    "The probability should be a string and should discard any digits after the 100ths place. For example, 2 / 3 or 0.6666666666666666 would become the string '0.66'. Note this is different from rounding.\n",
    "\n",
    "As a complete example, color_probability('red', 'bumpy') should return the string '0.57'."
   ]
  },
  {
   "cell_type": "code",
   "execution_count": 3,
   "metadata": {
    "colab": {
     "base_uri": "https://localhost:8080/",
     "height": 119
    },
    "colab_type": "code",
    "executionInfo": {
     "elapsed": 688,
     "status": "ok",
     "timestamp": 1590528862669,
     "user": {
      "displayName": "Steve McNatt",
      "photoUrl": "https://lh3.googleusercontent.com/a-/AOh14GjFZGJy8NcE9cSCrVbJdAXrHc_AX3oZmz_5pSiczw=s64",
      "userId": "17122454985167578805"
     },
     "user_tz": 300
    },
    "id": "ioSILKVHrvpE",
    "outputId": "ce949b83-6af4-42f8-cdc4-61a9bfc7f73f"
   },
   "outputs": [
    {
     "name": "stdout",
     "output_type": "stream",
     "text": [
      "0.57\n",
      "0.33\n",
      "0.28\n",
      "0.33\n",
      "0.14\n",
      "0.33\n"
     ]
    }
   ],
   "source": [
    "def color_probability(color, texture):\n",
    "    \"\"\"\n",
    "    Tells you the probability of picking a particular kind of marble\n",
    "\n",
    "    Args:\n",
    "        color: the color of the marble. Choices are 'red', 'yellow', or 'green'.\n",
    "        texture: the texture of the marble. Choices are 'bumpy', and 'smooth'.\n",
    "\n",
    "    Returns:\n",
    "        probability that you will pick a marble described.\n",
    "    \"\"\"\n",
    "    # use these to calculate your answer\n",
    "    red_smooth = 1\n",
    "    red_bumpy = 4\n",
    "    yellow_bumpy = 2\n",
    "    yellow_smooth = 1\n",
    "    green_bumpy = 1\n",
    "    green_smooth = 1\n",
    "\n",
    "    total_bumpy = red_bumpy + yellow_bumpy + green_bumpy\n",
    "    total_smooth = red_smooth + yellow_smooth + green_smooth\n",
    "\n",
    "    if (texture == 'bumpy'):\n",
    "        if (color == 'red'):\n",
    "            odds = red_bumpy / total_bumpy\n",
    "        elif (color == 'yellow'):\n",
    "            odds = yellow_bumpy / total_bumpy\n",
    "        elif (color == 'green'):\n",
    "            odds = green_bumpy / total_bumpy\n",
    "    elif (texture == 'smooth'):\n",
    "        if (color == 'red'):\n",
    "            odds = red_smooth / total_smooth\n",
    "        elif (color == 'yellow'):\n",
    "            odds = yellow_smooth / total_smooth\n",
    "        elif (color == 'green'):\n",
    "            odds = green_smooth / total_smooth\n",
    "\n",
    "    return int(odds * 100) / 100\n",
    "\n",
    "print(color_probability('red', 'bumpy'))\n",
    "print(color_probability('red', 'smooth'))\n",
    "print(color_probability('yellow', 'bumpy'))\n",
    "print(color_probability('yellow', 'smooth'))\n",
    "print(color_probability('green', 'bumpy'))\n",
    "print(color_probability('green', 'smooth'))"
   ]
  }
 ],
 "metadata": {
  "colab": {
   "name": "conditional_logic_drills.ipynb",
   "provenance": []
  },
  "kernelspec": {
   "display_name": "Python 3",
   "language": "python",
   "name": "python3"
  },
  "language_info": {
   "codemirror_mode": {
    "name": "ipython",
    "version": 3
   },
   "file_extension": ".py",
   "mimetype": "text/x-python",
   "name": "python",
   "nbconvert_exporter": "python",
   "pygments_lexer": "ipython3",
   "version": "3.7.6"
  }
 },
 "nbformat": 4,
 "nbformat_minor": 1
}
