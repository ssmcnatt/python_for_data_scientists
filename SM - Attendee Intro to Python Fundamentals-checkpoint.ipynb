{
 "cells": [
  {
   "cell_type": "markdown",
   "metadata": {
    "colab_type": "text",
    "id": "ZTcoWIZfIovw"
   },
   "source": [
    "# Intro to Python Fundamentals\n",
    "\n",
    "\n",
    "- Throughout this notebook we will be exploring base Python concepts and applying them in small practice problems.\n",
    "- Anytime you see a line surrounded by triple asterisks, `***LIKE THIS***`, that is a line of code that you will need to replace or edit.\n",
    "- Have fun and good luck coding!"
   ]
  },
  {
   "cell_type": "markdown",
   "metadata": {
    "colab_type": "text",
    "id": "G5lroUmBm77G"
   },
   "source": [
    "> To execute a line or block of code, simply click the \"Play\" button on the left side or use the keyboard shortcut \"Shift + Enter\"\n",
    "> When that code block has actually been executed, the blank brackets will change to have a number inside of them."
   ]
  },
  {
   "cell_type": "code",
   "execution_count": 0,
   "metadata": {
    "colab": {
     "base_uri": "https://localhost:8080/",
     "height": 34
    },
    "colab_type": "code",
    "executionInfo": {
     "elapsed": 393,
     "status": "ok",
     "timestamp": 1586914245936,
     "user": {
      "displayName": "Steve McNatt",
      "photoUrl": "https://lh3.googleusercontent.com/a-/AOh14GjFZGJy8NcE9cSCrVbJdAXrHc_AX3oZmz_5pSiczw=s64",
      "userId": "17122454985167578805"
     },
     "user_tz": 300
    },
    "id": "oW5-mMzgm85H",
    "outputId": "deef4c8d-f471-4bce-a464-9451df0de0d4"
   },
   "outputs": [
    {
     "name": "stdout",
     "output_type": "stream",
     "text": [
      "***EDIT THIS CODE***\n"
     ]
    }
   ],
   "source": [
    "x = '***EDIT THIS CODE***'\n",
    "print(x)"
   ]
  },
  {
   "cell_type": "markdown",
   "metadata": {
    "colab_type": "text",
    "id": "ulmFmPdbJJ7w"
   },
   "source": [
    "___\n",
    "## First lines of code:\n",
    "Printing `\"Hello, World!\"` and reviewing the Zen of Python are traditionally two of the first tasks for a new Python programmer, so let's do those together here:"
   ]
  },
  {
   "cell_type": "markdown",
   "metadata": {
    "colab_type": "text",
    "id": "uwUSbA1yKe-H"
   },
   "source": [
    "- We use `print` statements any time we want to display information to the console."
   ]
  },
  {
   "cell_type": "code",
   "execution_count": 0,
   "metadata": {
    "colab": {
     "base_uri": "https://localhost:8080/",
     "height": 34
    },
    "colab_type": "code",
    "executionInfo": {
     "elapsed": 396,
     "status": "ok",
     "timestamp": 1586914284469,
     "user": {
      "displayName": "Steve McNatt",
      "photoUrl": "https://lh3.googleusercontent.com/a-/AOh14GjFZGJy8NcE9cSCrVbJdAXrHc_AX3oZmz_5pSiczw=s64",
      "userId": "17122454985167578805"
     },
     "user_tz": 300
    },
    "id": "RaGYNWB2GnYf",
    "outputId": "e9dceca1-0111-41e1-ed35-56d8f1e8a58f"
   },
   "outputs": [
    {
     "name": "stdout",
     "output_type": "stream",
     "text": [
      "Hello, World!\n"
     ]
    }
   ],
   "source": [
    "print(\"Hello, World!\")"
   ]
  },
  {
   "cell_type": "markdown",
   "metadata": {
    "colab_type": "text",
    "id": "srpcy_IqKiCN"
   },
   "source": [
    "- The Zen of Python is a collection of 19 \"guiding principles\" for writing computer programs that influence the design of the Python programming language. Software engineer Tim Peters wrote this set of principles and posted it on the Python mailing list in 1999."
   ]
  },
  {
   "cell_type": "code",
   "execution_count": 0,
   "metadata": {
    "colab": {
     "base_uri": "https://localhost:8080/",
     "height": 370
    },
    "colab_type": "code",
    "executionInfo": {
     "elapsed": 371,
     "status": "ok",
     "timestamp": 1586914364835,
     "user": {
      "displayName": "Steve McNatt",
      "photoUrl": "https://lh3.googleusercontent.com/a-/AOh14GjFZGJy8NcE9cSCrVbJdAXrHc_AX3oZmz_5pSiczw=s64",
      "userId": "17122454985167578805"
     },
     "user_tz": 300
    },
    "id": "AQ4FEDbHJybj",
    "outputId": "76072e86-820a-4370-d442-640b2a6ff4fd"
   },
   "outputs": [
    {
     "name": "stdout",
     "output_type": "stream",
     "text": [
      "The Zen of Python, by Tim Peters\n",
      "\n",
      "Beautiful is better than ugly.\n",
      "Explicit is better than implicit.\n",
      "Simple is better than complex.\n",
      "Complex is better than complicated.\n",
      "Flat is better than nested.\n",
      "Sparse is better than dense.\n",
      "Readability counts.\n",
      "Special cases aren't special enough to break the rules.\n",
      "Although practicality beats purity.\n",
      "Errors should never pass silently.\n",
      "Unless explicitly silenced.\n",
      "In the face of ambiguity, refuse the temptation to guess.\n",
      "There should be one-- and preferably only one --obvious way to do it.\n",
      "Although that way may not be obvious at first unless you're Dutch.\n",
      "Now is better than never.\n",
      "Although never is often better than *right* now.\n",
      "If the implementation is hard to explain, it's a bad idea.\n",
      "If the implementation is easy to explain, it may be a good idea.\n",
      "Namespaces are one honking great idea -- let's do more of those!\n"
     ]
    }
   ],
   "source": [
    "import this"
   ]
  },
  {
   "cell_type": "markdown",
   "metadata": {
    "colab_type": "text",
    "id": "v3ToTbJdKq-J"
   },
   "source": [
    "___\n",
    "## Variables, Lists, and Dictionaries:\n",
    "Now that we're officially Python programmers, let's visit some of the core building blocks of Python."
   ]
  },
  {
   "cell_type": "markdown",
   "metadata": {
    "colab_type": "text",
    "id": "l6uUmBk-Lkjs"
   },
   "source": [
    "### Variables\n",
    "\n",
    "- Variables are reserved memory locations to store values. This means that when you create a variable (by using the ''`=`'' assignment operator) you reserve some space in memory for that particular piece of information.\n",
    "- The data type of a variable will dictate what kinds of manipulations we can do with it.\n",
    "- When naming our variables, we want to be concise but give some indication about their information or structure.\n",
    "\n",
    ">> *Let's create a variable called `my_name` and fill it with a string value of your name:*"
   ]
  },
  {
   "cell_type": "code",
   "execution_count": 0,
   "metadata": {
    "colab": {
     "base_uri": "https://localhost:8080/",
     "height": 34
    },
    "colab_type": "code",
    "executionInfo": {
     "elapsed": 413,
     "status": "ok",
     "timestamp": 1586914533339,
     "user": {
      "displayName": "Steve McNatt",
      "photoUrl": "https://lh3.googleusercontent.com/a-/AOh14GjFZGJy8NcE9cSCrVbJdAXrHc_AX3oZmz_5pSiczw=s64",
      "userId": "17122454985167578805"
     },
     "user_tz": 300
    },
    "id": "0WrFwxduJ1mQ",
    "outputId": "8cf1b59a-7397-4bb6-d809-606bdda4cf1d"
   },
   "outputs": [
    {
     "name": "stdout",
     "output_type": "stream",
     "text": [
      "Steve 42\n"
     ]
    }
   ],
   "source": [
    "my_name = 'Steve'\n",
    "meaning_of_life = 42\n",
    "\n",
    "print(my_name, meaning_of_life)"
   ]
  },
  {
   "cell_type": "code",
   "execution_count": 0,
   "metadata": {
    "colab": {
     "base_uri": "https://localhost:8080/",
     "height": 34
    },
    "colab_type": "code",
    "executionInfo": {
     "elapsed": 412,
     "status": "ok",
     "timestamp": 1586914548648,
     "user": {
      "displayName": "Steve McNatt",
      "photoUrl": "https://lh3.googleusercontent.com/a-/AOh14GjFZGJy8NcE9cSCrVbJdAXrHc_AX3oZmz_5pSiczw=s64",
      "userId": "17122454985167578805"
     },
     "user_tz": 300
    },
    "id": "mjS3QPHrxzEB",
    "outputId": "ed115939-b482-4835-e220-1e0fff7d5c09"
   },
   "outputs": [
    {
     "name": "stdout",
     "output_type": "stream",
     "text": [
      "<class 'str'> <class 'int'>\n"
     ]
    }
   ],
   "source": [
    "# We can always check the data type of any variable with the built-in `type` function\n",
    "print(type(my_name), type(meaning_of_life))"
   ]
  },
  {
   "cell_type": "code",
   "execution_count": 0,
   "metadata": {
    "colab": {
     "base_uri": "https://localhost:8080/",
     "height": 34
    },
    "colab_type": "code",
    "executionInfo": {
     "elapsed": 384,
     "status": "ok",
     "timestamp": 1586914678498,
     "user": {
      "displayName": "Steve McNatt",
      "photoUrl": "https://lh3.googleusercontent.com/a-/AOh14GjFZGJy8NcE9cSCrVbJdAXrHc_AX3oZmz_5pSiczw=s64",
      "userId": "17122454985167578805"
     },
     "user_tz": 300
    },
    "id": "9TKWzl5zyodc",
    "outputId": "f7293635-f6ef-4f3a-810b-e17936c4bc3d"
   },
   "outputs": [
    {
     "name": "stdout",
     "output_type": "stream",
     "text": [
      "Steve's favorite number is 42!\n"
     ]
    }
   ],
   "source": [
    "# We can also generate more customized `print` statements\n",
    "print(\"{}'s favorite number is {}!\".format(my_name, meaning_of_life))"
   ]
  },
  {
   "cell_type": "markdown",
   "metadata": {
    "colab_type": "text",
    "id": "8HAKfgo2wYZj"
   },
   "source": [
    "**String-Specific Functions**\n",
    "- If we have a string, there are some specific functions that we can use to manipulate it.\n",
    "- We'll take a look at some ways we can manipulate strings below.\n",
    "- For a more comprehensive list, check out this [documentation](https://www.programiz.com/python-programming/methods/string)."
   ]
  },
  {
   "cell_type": "code",
   "execution_count": 0,
   "metadata": {
    "colab": {
     "base_uri": "https://localhost:8080/",
     "height": 34
    },
    "colab_type": "code",
    "executionInfo": {
     "elapsed": 416,
     "status": "ok",
     "timestamp": 1586915011416,
     "user": {
      "displayName": "Steve McNatt",
      "photoUrl": "https://lh3.googleusercontent.com/a-/AOh14GjFZGJy8NcE9cSCrVbJdAXrHc_AX3oZmz_5pSiczw=s64",
      "userId": "17122454985167578805"
     },
     "user_tz": 300
    },
    "id": "KznXjeva08gO",
    "outputId": "ee7e3e93-8563-4dbf-8ca8-03191be87e81"
   },
   "outputs": [
    {
     "name": "stdout",
     "output_type": "stream",
     "text": [
      "Steve M\n"
     ]
    }
   ],
   "source": [
    "# We can \"concatenate\" strings or \"add\" them together\n",
    "full_name = my_name + ' ' + 'M'\n",
    "print(full_name)"
   ]
  },
  {
   "cell_type": "code",
   "execution_count": 0,
   "metadata": {
    "colab": {
     "base_uri": "https://localhost:8080/",
     "height": 34
    },
    "colab_type": "code",
    "executionInfo": {
     "elapsed": 437,
     "status": "ok",
     "timestamp": 1586915109986,
     "user": {
      "displayName": "Steve McNatt",
      "photoUrl": "https://lh3.googleusercontent.com/a-/AOh14GjFZGJy8NcE9cSCrVbJdAXrHc_AX3oZmz_5pSiczw=s64",
      "userId": "17122454985167578805"
     },
     "user_tz": 300
    },
    "id": "9vDXUrEowIgS",
    "outputId": "c5028bcb-9e43-4a0b-b6fd-5e3d101f0fea"
   },
   "outputs": [
    {
     "name": "stdout",
     "output_type": "stream",
     "text": [
      "steve STEVE\n"
     ]
    }
   ],
   "source": [
    "# We can make a string all lower case or upper case\n",
    "print(my_name.lower(), my_name.upper())"
   ]
  },
  {
   "cell_type": "code",
   "execution_count": 0,
   "metadata": {
    "colab": {
     "base_uri": "https://localhost:8080/",
     "height": 34
    },
    "colab_type": "code",
    "executionInfo": {
     "elapsed": 401,
     "status": "ok",
     "timestamp": 1586915156517,
     "user": {
      "displayName": "Steve McNatt",
      "photoUrl": "https://lh3.googleusercontent.com/a-/AOh14GjFZGJy8NcE9cSCrVbJdAXrHc_AX3oZmz_5pSiczw=s64",
      "userId": "17122454985167578805"
     },
     "user_tz": 300
    },
    "id": "5VYC9VMT1N_c",
    "outputId": "5677223e-3f56-4518-8ccf-def622da5ef9"
   },
   "outputs": [
    {
     "data": {
      "text/plain": [
       "['Steve', 'M']"
      ]
     },
     "execution_count": 10,
     "metadata": {
      "tags": []
     },
     "output_type": "execute_result"
    }
   ],
   "source": [
    "# We can split strings on certain characters\n",
    "full_name.split(' ')"
   ]
  },
  {
   "cell_type": "code",
   "execution_count": 0,
   "metadata": {
    "colab": {
     "base_uri": "https://localhost:8080/",
     "height": 34
    },
    "colab_type": "code",
    "executionInfo": {
     "elapsed": 353,
     "status": "ok",
     "timestamp": 1586915237260,
     "user": {
      "displayName": "Steve McNatt",
      "photoUrl": "https://lh3.googleusercontent.com/a-/AOh14GjFZGJy8NcE9cSCrVbJdAXrHc_AX3oZmz_5pSiczw=s64",
      "userId": "17122454985167578805"
     },
     "user_tz": 300
    },
    "id": "te8o2j2H00YT",
    "outputId": "d0d519fe-da78-402d-d634-30a7db8530c6"
   },
   "outputs": [
    {
     "name": "stdout",
     "output_type": "stream",
     "text": [
      "Steve M\n"
     ]
    }
   ],
   "source": [
    "# Or replace specific characters\n",
    "full_name.replace('e', 'i')"
   ]
  },
  {
   "cell_type": "markdown",
   "metadata": {
    "colab_type": "text",
    "id": "Yl1k4UnH3p3i"
   },
   "source": [
    "**Numeric-Specific Functions**\n",
    "- If we have a number value, there are _other_ specific functions that we can use to manipulate it.\n",
    "- We'll take a look at some mathematical operators below.\n",
    "- For a more comprehensive list, check out _this_ [reference](https://www.digitalocean.com/community/tutorials/how-to-do-math-in-python-3-with-operators)."
   ]
  },
  {
   "cell_type": "code",
   "execution_count": 0,
   "metadata": {
    "colab": {
     "base_uri": "https://localhost:8080/",
     "height": 84
    },
    "colab_type": "code",
    "executionInfo": {
     "elapsed": 443,
     "status": "ok",
     "timestamp": 1586915303720,
     "user": {
      "displayName": "Steve McNatt",
      "photoUrl": "https://lh3.googleusercontent.com/a-/AOh14GjFZGJy8NcE9cSCrVbJdAXrHc_AX3oZmz_5pSiczw=s64",
      "userId": "17122454985167578805"
     },
     "user_tz": 300
    },
    "id": "Ou5JA_GK4Ewf",
    "outputId": "f4532d1d-62da-4790-963e-b0116ddef102"
   },
   "outputs": [
    {
     "name": "stdout",
     "output_type": "stream",
     "text": [
      "Sum: 11\n",
      "Difference: 7\n",
      "Product: 18\n",
      "Quotient: 4.5\n"
     ]
    }
   ],
   "source": [
    "# We can do some basic arithmetic\n",
    "x = 9\n",
    "y = 2\n",
    "\n",
    "print('Sum:', x+y)\n",
    "print('Difference:', x-y)\n",
    "print('Product:', x*y)\n",
    "print('Quotient:', x/y)"
   ]
  },
  {
   "cell_type": "code",
   "execution_count": 0,
   "metadata": {
    "colab": {
     "base_uri": "https://localhost:8080/",
     "height": 50
    },
    "colab_type": "code",
    "executionInfo": {
     "elapsed": 425,
     "status": "ok",
     "timestamp": 1586915453309,
     "user": {
      "displayName": "Steve McNatt",
      "photoUrl": "https://lh3.googleusercontent.com/a-/AOh14GjFZGJy8NcE9cSCrVbJdAXrHc_AX3oZmz_5pSiczw=s64",
      "userId": "17122454985167578805"
     },
     "user_tz": 300
    },
    "id": "HmuiLBPc7HFD",
    "outputId": "99a40bc3-707e-46f1-ea17-dafda2135ed7"
   },
   "outputs": [
    {
     "name": "stdout",
     "output_type": "stream",
     "text": [
      "x to the power of y: 81\n",
      "Remainder of x divided by y: 1\n"
     ]
    }
   ],
   "source": [
    "# We can also work with exponents and remainders\n",
    "\n",
    "print('x to the power of y:', x**y)\n",
    "print('Remainder of x divided by y:', x%y)"
   ]
  },
  {
   "cell_type": "code",
   "execution_count": 0,
   "metadata": {
    "colab": {
     "base_uri": "https://localhost:8080/",
     "height": 50
    },
    "colab_type": "code",
    "executionInfo": {
     "elapsed": 427,
     "status": "ok",
     "timestamp": 1586915510981,
     "user": {
      "displayName": "Steve McNatt",
      "photoUrl": "https://lh3.googleusercontent.com/a-/AOh14GjFZGJy8NcE9cSCrVbJdAXrHc_AX3oZmz_5pSiczw=s64",
      "userId": "17122454985167578805"
     },
     "user_tz": 300
    },
    "id": "pxoPwv9l0ufL",
    "outputId": "39dfc9b0-92de-47c5-a05e-179cccf58e1d"
   },
   "outputs": [
    {
     "name": "stdout",
     "output_type": "stream",
     "text": [
      "8\n",
      "16\n"
     ]
    }
   ],
   "source": [
    "# Compound operators \n",
    "# update variable state\n",
    "\n",
    "original = 5\n",
    "original += 3\n",
    "print(original)\n",
    "original *= 2\n",
    "print(original)"
   ]
  },
  {
   "cell_type": "markdown",
   "metadata": {
    "colab_type": "text",
    "id": "4kWCMrvNLqSL"
   },
   "source": [
    "___\n",
    "### Lists\n",
    "\n",
    "- Lists are used to store a collection of data in an ordered sequence.\n",
    "- List items can be of different data types.\n",
    "- To create a list, we use square brackets `[]` and fill the brackets with items in the list separated by commas.\n",
    "\n",
    ">> *Let's create a list called `pizza_toppings` and fill it with strings of our favorite ingredients:*"
   ]
  },
  {
   "cell_type": "code",
   "execution_count": 0,
   "metadata": {
    "colab": {
     "base_uri": "https://localhost:8080/",
     "height": 34
    },
    "colab_type": "code",
    "executionInfo": {
     "elapsed": 367,
     "status": "ok",
     "timestamp": 1586915849381,
     "user": {
      "displayName": "Steve McNatt",
      "photoUrl": "https://lh3.googleusercontent.com/a-/AOh14GjFZGJy8NcE9cSCrVbJdAXrHc_AX3oZmz_5pSiczw=s64",
      "userId": "17122454985167578805"
     },
     "user_tz": 300
    },
    "id": "n9Qr78UhLtQv",
    "outputId": "1020e8c7-3b68-4d26-94b1-3ae72eda50c0"
   },
   "outputs": [
    {
     "name": "stdout",
     "output_type": "stream",
     "text": [
      "['pepperoni', 'pineapple', 'extra cheese']\n"
     ]
    }
   ],
   "source": [
    "pizza_toppings = ['pepperoni', 'pineapple', 'extra cheese']\n",
    "print(pizza_toppings)"
   ]
  },
  {
   "cell_type": "code",
   "execution_count": 0,
   "metadata": {
    "colab": {
     "base_uri": "https://localhost:8080/",
     "height": 34
    },
    "colab_type": "code",
    "executionInfo": {
     "elapsed": 445,
     "status": "ok",
     "timestamp": 1586915852672,
     "user": {
      "displayName": "Steve McNatt",
      "photoUrl": "https://lh3.googleusercontent.com/a-/AOh14GjFZGJy8NcE9cSCrVbJdAXrHc_AX3oZmz_5pSiczw=s64",
      "userId": "17122454985167578805"
     },
     "user_tz": 300
    },
    "id": "D556faD_2kxd",
    "outputId": "006bc154-30c0-4730-c111-11abe5ff9bf8"
   },
   "outputs": [
    {
     "data": {
      "text/plain": [
       "list"
      ]
     },
     "execution_count": 18,
     "metadata": {
      "tags": []
     },
     "output_type": "execute_result"
    }
   ],
   "source": [
    "# Checking the type\n",
    "type(pizza_toppings)"
   ]
  },
  {
   "cell_type": "markdown",
   "metadata": {
    "colab_type": "text",
    "id": "5lddZlrSMt9X"
   },
   "source": [
    "**Accessing and Updating Lists**\n",
    "- List contents are accessed by index using bracket notation `[]` — you can access an item in a list by asking for the item in a given position.\n",
    "- We can also use bracket notation to reassign or update items in a list.\n",
    "- Accessing multiple items in a list is called slicing — we do this using bracket notation and two indices separated by a colon `:`.\n",
    "\n",
    ">> _Let's take a look at some examples of each of those below:_"
   ]
  },
  {
   "cell_type": "code",
   "execution_count": 0,
   "metadata": {
    "colab": {
     "base_uri": "https://localhost:8080/",
     "height": 34
    },
    "colab_type": "code",
    "executionInfo": {
     "elapsed": 417,
     "status": "ok",
     "timestamp": 1586915857971,
     "user": {
      "displayName": "Steve McNatt",
      "photoUrl": "https://lh3.googleusercontent.com/a-/AOh14GjFZGJy8NcE9cSCrVbJdAXrHc_AX3oZmz_5pSiczw=s64",
      "userId": "17122454985167578805"
     },
     "user_tz": 300
    },
    "id": "J8MEh-QwMudA",
    "outputId": "a1156d01-81b4-4c2d-ca77-ac16fc98dacd"
   },
   "outputs": [
    {
     "data": {
      "text/plain": [
       "'pepperoni'"
      ]
     },
     "execution_count": 19,
     "metadata": {
      "tags": []
     },
     "output_type": "execute_result"
    }
   ],
   "source": [
    "# Getting the first element in a list\n",
    "pizza_toppings[0]"
   ]
  },
  {
   "cell_type": "code",
   "execution_count": 0,
   "metadata": {
    "colab": {
     "base_uri": "https://localhost:8080/",
     "height": 34
    },
    "colab_type": "code",
    "executionInfo": {
     "elapsed": 439,
     "status": "ok",
     "timestamp": 1586915917214,
     "user": {
      "displayName": "Steve McNatt",
      "photoUrl": "https://lh3.googleusercontent.com/a-/AOh14GjFZGJy8NcE9cSCrVbJdAXrHc_AX3oZmz_5pSiczw=s64",
      "userId": "17122454985167578805"
     },
     "user_tz": 300
    },
    "id": "qgi3U4RS4WYl",
    "outputId": "a1f1ed57-46bb-45ef-cac4-e95cb77564c4"
   },
   "outputs": [
    {
     "data": {
      "text/plain": [
       "['pepperoni', 'sausage', 'extra cheese']"
      ]
     },
     "execution_count": 20,
     "metadata": {
      "tags": []
     },
     "output_type": "execute_result"
    }
   ],
   "source": [
    "# Upgrading 'pineapple' to topping of your choice\n",
    "pizza_toppings[1] = 'sausage'\n",
    "pizza_toppings"
   ]
  },
  {
   "cell_type": "code",
   "execution_count": 0,
   "metadata": {
    "colab": {
     "base_uri": "https://localhost:8080/",
     "height": 34
    },
    "colab_type": "code",
    "executionInfo": {
     "elapsed": 376,
     "status": "ok",
     "timestamp": 1586915946325,
     "user": {
      "displayName": "Steve McNatt",
      "photoUrl": "https://lh3.googleusercontent.com/a-/AOh14GjFZGJy8NcE9cSCrVbJdAXrHc_AX3oZmz_5pSiczw=s64",
      "userId": "17122454985167578805"
     },
     "user_tz": 300
    },
    "id": "Zno1ed654qvV",
    "outputId": "c600d492-7034-41e8-dadc-adde50eff5a8"
   },
   "outputs": [
    {
     "data": {
      "text/plain": [
       "['pepperoni', 'sausage']"
      ]
     },
     "execution_count": 21,
     "metadata": {
      "tags": []
     },
     "output_type": "execute_result"
    }
   ],
   "source": [
    "# Looking at multiple items at a time\n",
    "pizza_toppings[0:2]"
   ]
  },
  {
   "cell_type": "code",
   "execution_count": 0,
   "metadata": {
    "colab": {
     "base_uri": "https://localhost:8080/",
     "height": 34
    },
    "colab_type": "code",
    "executionInfo": {
     "elapsed": 423,
     "status": "ok",
     "timestamp": 1586916152868,
     "user": {
      "displayName": "Steve McNatt",
      "photoUrl": "https://lh3.googleusercontent.com/a-/AOh14GjFZGJy8NcE9cSCrVbJdAXrHc_AX3oZmz_5pSiczw=s64",
      "userId": "17122454985167578805"
     },
     "user_tz": 300
    },
    "id": "ScB92vpm4w1t",
    "outputId": "b54ba552-b458-4443-e40d-1e36271fc433"
   },
   "outputs": [
    {
     "data": {
      "text/plain": [
       "['extra cheese', 'sausage', 'pepperoni']"
      ]
     },
     "execution_count": 25,
     "metadata": {
      "tags": []
     },
     "output_type": "execute_result"
    }
   ],
   "source": [
    "# One cool little trick with slicing\n",
    "pizza_toppings[::-1]"
   ]
  },
  {
   "cell_type": "markdown",
   "metadata": {
    "colab_type": "text",
    "id": "w2N0XS89lvhW"
   },
   "source": [
    "**List Challenge!**\n",
    "- Make a new list called `stoplight_colors`\n",
    "- Fill it with the following strings:\n",
    "  - `“Green”`\n",
    "  - `“Yellow”`\n",
    "  - `“Broken”`\n",
    "- Using indexing, update `“Broken”` to `“Red”`\n",
    "- `Print` the updated list to confirm the change"
   ]
  },
  {
   "cell_type": "code",
   "execution_count": 0,
   "metadata": {
    "colab": {},
    "colab_type": "code",
    "id": "Odjy4IfdlwAD"
   },
   "outputs": [],
   "source": [
    "# Add your Challenge code here!\n",
    "\n"
   ]
  },
  {
   "cell_type": "markdown",
   "metadata": {
    "colab_type": "text",
    "id": "afYuD1NELt3w"
   },
   "source": [
    "___\n",
    "### Dictionaries\n",
    "\n",
    "- Dictionaries allow you to store data as an unordered collection of `key:value` pairs.\n",
    "  - Looking up or setting values by key rather than by index has different performance implications.\n",
    "  - Writing code that refers to data by name rather than by index number can be much clearer and easier to understand.\n",
    "- We create a dictionary with curly braces `{}` and fill it with `key:value` pairs, with each **pair** separated by a comma.\n",
    "\n",
    "> *Let's create a list called `groceries` and fill it with strings and quantities of some foods we might have around the house:*"
   ]
  },
  {
   "cell_type": "code",
   "execution_count": 0,
   "metadata": {
    "colab": {
     "base_uri": "https://localhost:8080/",
     "height": 34
    },
    "colab_type": "code",
    "executionInfo": {
     "elapsed": 390,
     "status": "ok",
     "timestamp": 1586916405550,
     "user": {
      "displayName": "Steve McNatt",
      "photoUrl": "https://lh3.googleusercontent.com/a-/AOh14GjFZGJy8NcE9cSCrVbJdAXrHc_AX3oZmz_5pSiczw=s64",
      "userId": "17122454985167578805"
     },
     "user_tz": 300
    },
    "id": "lmOlOoWXLwOW",
    "outputId": "4ce11359-aae3-494c-842f-2278c18d379a"
   },
   "outputs": [
    {
     "name": "stdout",
     "output_type": "stream",
     "text": [
      "{'apples': 4, 'bananas': 6, 'cookies': 3}\n"
     ]
    }
   ],
   "source": [
    "groceries = {\n",
    "    'apples': 4,\n",
    "    'bananas': 6,\n",
    "    'cookies': 3\n",
    "}\n",
    "print(groceries)"
   ]
  },
  {
   "cell_type": "code",
   "execution_count": 0,
   "metadata": {
    "colab": {
     "base_uri": "https://localhost:8080/",
     "height": 34
    },
    "colab_type": "code",
    "executionInfo": {
     "elapsed": 379,
     "status": "ok",
     "timestamp": 1586916385779,
     "user": {
      "displayName": "Steve McNatt",
      "photoUrl": "https://lh3.googleusercontent.com/a-/AOh14GjFZGJy8NcE9cSCrVbJdAXrHc_AX3oZmz_5pSiczw=s64",
      "userId": "17122454985167578805"
     },
     "user_tz": 300
    },
    "id": "jlo2iTTA60f_",
    "outputId": "95da175e-aa43-4a04-e373-ee1ad872bef4"
   },
   "outputs": [
    {
     "data": {
      "text/plain": [
       "dict"
      ]
     },
     "execution_count": 27,
     "metadata": {
      "tags": []
     },
     "output_type": "execute_result"
    }
   ],
   "source": [
    "# Checking the type\n",
    "type(groceries)"
   ]
  },
  {
   "cell_type": "markdown",
   "metadata": {
    "colab_type": "text",
    "id": "MP0acsxyMqrH"
   },
   "source": [
    "**Accessing and Updating Dictionaries**\n",
    "- Dictionary values are accessed using bracket notation `[]`, just like with lists and strings, except that instead of using an index number you use a key.\n",
    "- Updating the value associated with a key looks very much like assigning a value to a variable — again, we'll use bracket notation `[]` and the assignment operator `=` to accomplish this.\n",
    "  - This is also how we create new pairs in the dictionary.\n",
    "- We can also do quick membership checks using `in` and `not in`.\n",
    "\n",
    ">> _Let's take a look at some examples of each of those below:_"
   ]
  },
  {
   "cell_type": "code",
   "execution_count": 0,
   "metadata": {
    "colab": {
     "base_uri": "https://localhost:8080/",
     "height": 34
    },
    "colab_type": "code",
    "executionInfo": {
     "elapsed": 437,
     "status": "ok",
     "timestamp": 1586916520044,
     "user": {
      "displayName": "Steve McNatt",
      "photoUrl": "https://lh3.googleusercontent.com/a-/AOh14GjFZGJy8NcE9cSCrVbJdAXrHc_AX3oZmz_5pSiczw=s64",
      "userId": "17122454985167578805"
     },
     "user_tz": 300
    },
    "id": "wR74ZzDqMs4C",
    "outputId": "5f03cfe8-58b5-4d5d-c9aa-2a1dfeca2001"
   },
   "outputs": [
    {
     "data": {
      "text/plain": [
       "4"
      ]
     },
     "execution_count": 30,
     "metadata": {
      "tags": []
     },
     "output_type": "execute_result"
    }
   ],
   "source": [
    "# Checking a single value\n",
    "groceries['apples']"
   ]
  },
  {
   "cell_type": "code",
   "execution_count": 0,
   "metadata": {
    "colab": {
     "base_uri": "https://localhost:8080/",
     "height": 34
    },
    "colab_type": "code",
    "executionInfo": {
     "elapsed": 390,
     "status": "ok",
     "timestamp": 1586916522615,
     "user": {
      "displayName": "Steve McNatt",
      "photoUrl": "https://lh3.googleusercontent.com/a-/AOh14GjFZGJy8NcE9cSCrVbJdAXrHc_AX3oZmz_5pSiczw=s64",
      "userId": "17122454985167578805"
     },
     "user_tz": 300
    },
    "id": "SarUGoNf98As",
    "outputId": "34b4e70a-4e6a-4a50-9d5f-2cb9dec02dd4"
   },
   "outputs": [
    {
     "data": {
      "text/plain": [
       "{'apples': 8, 'bananas': 6, 'cookies': 3, 'milk': 1}"
      ]
     },
     "execution_count": 31,
     "metadata": {
      "tags": []
     },
     "output_type": "execute_result"
    }
   ],
   "source": [
    "# Updating a value\n",
    "groceries['apples'] += 4\n",
    "groceries"
   ]
  },
  {
   "cell_type": "code",
   "execution_count": 0,
   "metadata": {
    "colab": {
     "base_uri": "https://localhost:8080/",
     "height": 34
    },
    "colab_type": "code",
    "executionInfo": {
     "elapsed": 460,
     "status": "ok",
     "timestamp": 1586916516186,
     "user": {
      "displayName": "Steve McNatt",
      "photoUrl": "https://lh3.googleusercontent.com/a-/AOh14GjFZGJy8NcE9cSCrVbJdAXrHc_AX3oZmz_5pSiczw=s64",
      "userId": "17122454985167578805"
     },
     "user_tz": 300
    },
    "id": "fKCnlUiD-KLB",
    "outputId": "d82f7a7b-2f6e-42f6-c02f-614fc150ac6b"
   },
   "outputs": [
    {
     "data": {
      "text/plain": [
       "{'apples': 4, 'bananas': 6, 'cookies': 3, 'milk': 1}"
      ]
     },
     "execution_count": 29,
     "metadata": {
      "tags": []
     },
     "output_type": "execute_result"
    }
   ],
   "source": [
    "# Adding a new pair\n",
    "groceries['milk'] = 1\n",
    "groceries"
   ]
  },
  {
   "cell_type": "code",
   "execution_count": 0,
   "metadata": {
    "colab": {
     "base_uri": "https://localhost:8080/",
     "height": 50
    },
    "colab_type": "code",
    "executionInfo": {
     "elapsed": 422,
     "status": "ok",
     "timestamp": 1586916600874,
     "user": {
      "displayName": "Steve McNatt",
      "photoUrl": "https://lh3.googleusercontent.com/a-/AOh14GjFZGJy8NcE9cSCrVbJdAXrHc_AX3oZmz_5pSiczw=s64",
      "userId": "17122454985167578805"
     },
     "user_tz": 300
    },
    "id": "9KWL_Vvg-Tr9",
    "outputId": "29975aa8-0b86-4120-dadf-6cb497fde31a"
   },
   "outputs": [
    {
     "name": "stdout",
     "output_type": "stream",
     "text": [
      "True\n",
      "False\n"
     ]
    }
   ],
   "source": [
    "# Checking for membership\n",
    "print('apples' in groceries)\n",
    "print('watermelons' in groceries)"
   ]
  },
  {
   "cell_type": "markdown",
   "metadata": {
    "colab_type": "text",
    "id": "w90v73nDn07q"
   },
   "source": [
    "**Dictionary Challenge!**\n",
    "- Take our `groceries` dictionary\n",
    "- Add a new key:value pair of your choice\n",
    "- Delete the `“apples”` item from the dictionary entirely (you may need to use Google!)\n",
    "- Eat 2 cookies (subtract 2 cookies from the inventory)\n",
    "- Print out the dictionary to confirm the changes"
   ]
  },
  {
   "cell_type": "code",
   "execution_count": 0,
   "metadata": {
    "colab": {},
    "colab_type": "code",
    "id": "aD_Oni7Cn1QP"
   },
   "outputs": [],
   "source": [
    "# Add your Challenge code here!\n",
    "\n"
   ]
  },
  {
   "cell_type": "markdown",
   "metadata": {
    "colab_type": "text",
    "id": "QqZhhZ5JL3YP"
   },
   "source": [
    "___\n",
    "## Functions:\n",
    "- Functions are going to be an integral part of your workflow as a Python programmer.\n",
    "- Functions let you write a block of organized, reusable code that is used to perform a single, related action.\n",
    "- You define that behavior once, and you can run and re-run your set of instructions whenever and as many times as you need.\n",
    "\n",
    ">> _Let's start with a basic function first and move on to some more complicated ones:_"
   ]
  },
  {
   "cell_type": "code",
   "execution_count": 0,
   "metadata": {
    "colab": {
     "base_uri": "https://localhost:8080/",
     "height": 34
    },
    "colab_type": "code",
    "executionInfo": {
     "elapsed": 401,
     "status": "ok",
     "timestamp": 1586917213790,
     "user": {
      "displayName": "Steve McNatt",
      "photoUrl": "https://lh3.googleusercontent.com/a-/AOh14GjFZGJy8NcE9cSCrVbJdAXrHc_AX3oZmz_5pSiczw=s64",
      "userId": "17122454985167578805"
     },
     "user_tz": 300
    },
    "id": "q1dV-rodMigw",
    "outputId": "32d18e26-9bd7-4ed7-ead1-632941fa940a"
   },
   "outputs": [
    {
     "name": "stdout",
     "output_type": "stream",
     "text": [
      "Hello Emily\n"
     ]
    }
   ],
   "source": [
    "# Defining our function\n",
    "def hello(name):\n",
    "  print(\"Hello \" + name)\n",
    "  \n",
    "# \"Calling\" or executing our function\n",
    "hello('Emily')"
   ]
  },
  {
   "cell_type": "code",
   "execution_count": 0,
   "metadata": {
    "colab": {
     "base_uri": "https://localhost:8080/",
     "height": 34
    },
    "colab_type": "code",
    "executionInfo": {
     "elapsed": 404,
     "status": "ok",
     "timestamp": 1586917170025,
     "user": {
      "displayName": "Steve McNatt",
      "photoUrl": "https://lh3.googleusercontent.com/a-/AOh14GjFZGJy8NcE9cSCrVbJdAXrHc_AX3oZmz_5pSiczw=s64",
      "userId": "17122454985167578805"
     },
     "user_tz": 300
    },
    "id": "ijeG2v9DEGtp",
    "outputId": "dcaf6780-9f1b-4118-86d0-161a269a5a99"
   },
   "outputs": [
    {
     "name": "stdout",
     "output_type": "stream",
     "text": [
      "Hello Guido\n"
     ]
    }
   ],
   "source": [
    "# Using variables as parameters instead of explicit strings\n",
    "some_other_name = \"Guido\"\n",
    "hello(name= some_other_name)"
   ]
  },
  {
   "cell_type": "markdown",
   "metadata": {
    "colab_type": "text",
    "id": "tm_HRS6-Mn_D"
   },
   "source": [
    ">> So far we've been using `print` statements within a function to print something to the console — just showing the user (us) a string representing what is going on inside the computer. The other statement that you will see and utilize is `return`.\n",
    "- `return` is the main way that a function returns a value.\n",
    "- All functions will return a value, and if there is no `return` statement it will return `None`.\n",
    "- The value that is returned by a function can then be further used as an argument passed to another function, stored as a variable, or just printed for the benefit of the human user."
   ]
  },
  {
   "cell_type": "code",
   "execution_count": 0,
   "metadata": {
    "colab": {
     "base_uri": "https://localhost:8080/",
     "height": 67
    },
    "colab_type": "code",
    "executionInfo": {
     "elapsed": 487,
     "status": "ok",
     "timestamp": 1586917294826,
     "user": {
      "displayName": "Steve McNatt",
      "photoUrl": "https://lh3.googleusercontent.com/a-/AOh14GjFZGJy8NcE9cSCrVbJdAXrHc_AX3oZmz_5pSiczw=s64",
      "userId": "17122454985167578805"
     },
     "user_tz": 300
    },
    "id": "cxYYshbPMpMn",
    "outputId": "f0755d7b-a7ef-4aa9-ea41-fc1993e04a6a"
   },
   "outputs": [
    {
     "name": "stdout",
     "output_type": "stream",
     "text": [
      "Printer is out of ink...\n",
      "The value of first is: None\n",
      "None\n"
     ]
    }
   ],
   "source": [
    "# Examples showing the difference between `print` and `return`\n",
    "\n",
    "def function_that_prints():\n",
    "    print(\"Printer is out of ink...\")\n",
    "\n",
    "first = function_that_prints()\n",
    "\n",
    "print(\"The value of first is:\", first)\n",
    "print(first)\n"
   ]
  },
  {
   "cell_type": "code",
   "execution_count": 0,
   "metadata": {
    "colab": {
     "base_uri": "https://localhost:8080/",
     "height": 50
    },
    "colab_type": "code",
    "executionInfo": {
     "elapsed": 442,
     "status": "ok",
     "timestamp": 1586917376178,
     "user": {
      "displayName": "Steve McNatt",
      "photoUrl": "https://lh3.googleusercontent.com/a-/AOh14GjFZGJy8NcE9cSCrVbJdAXrHc_AX3oZmz_5pSiczw=s64",
      "userId": "17122454985167578805"
     },
     "user_tz": 300
    },
    "id": "TckJr8DJtc52",
    "outputId": "ad10ea2a-94e6-476c-b34e-b0953828723e"
   },
   "outputs": [
    {
     "name": "stdout",
     "output_type": "stream",
     "text": [
      "The value of second is: Return of the Function!\n",
      "Return of the Function!\n"
     ]
    }
   ],
   "source": [
    "def function_that_returns():\n",
    "    return \"Return of the Function!\"\n",
    "  \n",
    "second = function_that_returns()\n",
    "\n",
    "print(\"The value of second is:\", second)\n",
    "print(second)"
   ]
  },
  {
   "cell_type": "markdown",
   "metadata": {
    "colab_type": "text",
    "id": "V4pl_VXKsFJU"
   },
   "source": [
    ">> **Let's build out our understanding with an example here:**"
   ]
  },
  {
   "cell_type": "code",
   "execution_count": 0,
   "metadata": {
    "colab": {},
    "colab_type": "code",
    "id": "XDrC8K78HQMh"
   },
   "outputs": [],
   "source": [
    "def far_to_cel(fahrenheit):\n",
    "  celsius = int((fahrenheit - 32) / 1.8)\n",
    "  return celsius"
   ]
  },
  {
   "cell_type": "code",
   "execution_count": 0,
   "metadata": {
    "colab": {
     "base_uri": "https://localhost:8080/",
     "height": 50
    },
    "colab_type": "code",
    "executionInfo": {
     "elapsed": 501,
     "status": "ok",
     "timestamp": 1586917538066,
     "user": {
      "displayName": "Steve McNatt",
      "photoUrl": "https://lh3.googleusercontent.com/a-/AOh14GjFZGJy8NcE9cSCrVbJdAXrHc_AX3oZmz_5pSiczw=s64",
      "userId": "17122454985167578805"
     },
     "user_tz": 300
    },
    "id": "3TY2AWWjIyh3",
    "outputId": "ed385817-4219-4e92-f8eb-f95a13534572"
   },
   "outputs": [
    {
     "name": "stdout",
     "output_type": "stream",
     "text": [
      "10\n",
      "29\n"
     ]
    }
   ],
   "source": [
    "# Printing resulting values\n",
    "\n",
    "print(far_to_cel(50))\n",
    "new_temp = 85\n",
    "print(far_to_cel(new_temp))"
   ]
  },
  {
   "cell_type": "code",
   "execution_count": 0,
   "metadata": {
    "colab": {
     "base_uri": "https://localhost:8080/",
     "height": 34
    },
    "colab_type": "code",
    "executionInfo": {
     "elapsed": 464,
     "status": "ok",
     "timestamp": 1586917886700,
     "user": {
      "displayName": "Steve McNatt",
      "photoUrl": "https://lh3.googleusercontent.com/a-/AOh14GjFZGJy8NcE9cSCrVbJdAXrHc_AX3oZmz_5pSiczw=s64",
      "userId": "17122454985167578805"
     },
     "user_tz": 300
    },
    "id": "As3MrZsvI8nr",
    "outputId": "c732d10e-b382-41a6-f5f2-f5d109bd0a23"
   },
   "outputs": [
    {
     "name": "stdout",
     "output_type": "stream",
     "text": [
      "33\n"
     ]
    }
   ],
   "source": [
    "# Saving the values that have been returned as new variables\n",
    "\n",
    "winter_temp = far_to_cel(30)\n",
    "summer_temp = far_to_cel(90)\n",
    "\n",
    "diff_summer_winter = summer_temp - winter_temp\n",
    "print(diff_summer_winter)"
   ]
  },
  {
   "cell_type": "markdown",
   "metadata": {
    "colab_type": "text",
    "id": "41CowmoRosMa"
   },
   "source": [
    "**Function Challenge!**\n",
    "- Define a new function called `circumference`\n",
    "- It should take one argument (`radius`)\n",
    "- Given the radius provided, perform the necessary calculation and store it internally in a variable called `cir`\n",
    "- Return the resulting value\n",
    "- Call (execute) your function with a new radius!\n",
    "\n",
    "> Equation of the circumference of a circle:\n",
    "$$C = 2πr$$"
   ]
  },
  {
   "cell_type": "code",
   "execution_count": 0,
   "metadata": {
    "colab": {},
    "colab_type": "code",
    "id": "ZvknqSD8oryC"
   },
   "outputs": [],
   "source": [
    "# Add your Challenge code here!\n",
    "\n"
   ]
  },
  {
   "cell_type": "markdown",
   "metadata": {
    "colab_type": "text",
    "id": "vbVIGzFRJbxz"
   },
   "source": [
    "## And there you have it — all of the base Python that you need to get rocking and rolling!\n",
    "- Be sure to keep practicing by changing things in this notebook and by spending 15-20 minutes on a different challenge daily — you'll be amazed at how quickly you'll improve!\n",
    "- Some great daily places to practice are [Practice Python](http://www.practicepython.org/) and [CodeWars](https://www.codewars.com/users/sign_in).\n",
    "\n",
    "## Take Home Challenge\n",
    "- If you want an additional practice challenge to work on here in the notebook, consider the following from PracticePython:\n",
    "  - Write a function that takes a list of numbers (for example, `a = [5, 10, 15, 20, 25]`) and makes a new list of only the first and last elements of the given list.\n",
    "  - We'll start the code for you below:"
   ]
  },
  {
   "cell_type": "code",
   "execution_count": 0,
   "metadata": {
    "colab": {},
    "colab_type": "code",
    "id": "ELAQwh5hiKqY"
   },
   "outputs": [],
   "source": [
    "def list_ends(series):\n",
    "  # Your code goes here"
   ]
  },
  {
   "cell_type": "markdown",
   "metadata": {
    "colab_type": "text",
    "id": "qv9ER8innCJD"
   },
   "source": [
    "# Keep Learning with Thinkful\n",
    "If you enjoyed today's session and want to take a deeper dive into many of the topics that we covered today like Pandas, SQL, predictive modeling, visualizing your data, and so much more, we'd love to have you join us again!\n",
    "- Check out more of our webinars at [Thinkful Webinars](https://www.thinkful.com/webinars/)\n",
    "- Learn more about the [Data Science Flex Course](https://www.thinkful.com/bootcamp/data-science/flexible/)"
   ]
  }
 ],
 "metadata": {
  "colab": {
   "collapsed_sections": [],
   "name": "SM - Attendee Intro to Python Fundamentals.ipynb",
   "provenance": [
    {
     "file_id": "1ZaBYrbjAF6-n6sp701oeIr8q0LiuG9qZ",
     "timestamp": 1586913943259
    }
   ]
  },
  "kernelspec": {
   "display_name": "Python 3",
   "name": "python3"
  }
 },
 "nbformat": 4,
 "nbformat_minor": 0
}
