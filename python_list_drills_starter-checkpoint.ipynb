{
 "cells": [
  {
   "cell_type": "markdown",
   "metadata": {
    "colab_type": "text",
    "id": "mrtCM7Gu-hGc"
   },
   "source": [
    "## 1: `longest_word_length`\n",
    "\n",
    "Create a function called `longest_word` that takes one argument, a list of words, and returns the length of the longest word in the list.\n",
    "\n",
    "For example, `longest_word(['simple', 'is', 'better', 'than', 'complex'])` should return 7 because the longest word there is complex, at 7 characters.\n",
    "\n",
    "Your function should *not* modify the input list."
   ]
  },
  {
   "cell_type": "code",
   "execution_count": 23,
   "metadata": {
    "colab": {
     "base_uri": "https://localhost:8080/",
     "height": 34
    },
    "colab_type": "code",
    "executionInfo": {
     "elapsed": 432,
     "status": "ok",
     "timestamp": 1590531482153,
     "user": {
      "displayName": "Steve McNatt",
      "photoUrl": "https://lh3.googleusercontent.com/a-/AOh14GjFZGJy8NcE9cSCrVbJdAXrHc_AX3oZmz_5pSiczw=s64",
      "userId": "17122454985167578805"
     },
     "user_tz": 300
    },
    "id": "SHqy7hia-hGe",
    "outputId": "a0e88059-cedc-4d89-eebc-acafb03cf0f4"
   },
   "outputs": [
    {
     "name": "stdout",
     "output_type": "stream",
     "text": [
      "7\n"
     ]
    }
   ],
   "source": [
    "def longest_word(word_list):\n",
    "    longest = 0;\n",
    "    for word in word_list:\n",
    "        if len(word) > longest:\n",
    "            longest = len(word)\n",
    "    return longest\n",
    "\n",
    "print(longest_word(['simple', 'is', 'better', 'than', 'complex']))"
   ]
  },
  {
   "cell_type": "markdown",
   "metadata": {
    "colab_type": "text",
    "id": "YmaZJIYZ-hGm"
   },
   "source": [
    "## 2: `calculate_grade`\n",
    "\n",
    "You're a statistics professor and the deadline for submitting your students' grades is tonight at midnight. Each student's grade is determined by their mean score across all of the tests they took this semester.\n",
    "\n",
    "You've decided to automate grade calculation by writing a function `calculate_grade` that takes a list of test scores as an argument and returns a one character string representing the student's grade calculated as follows:\n",
    "\n",
    "```\n",
    "90% <= mean score <= 100%: \"A\",\n",
    "80% <= mean score < 90%: \"B\",\n",
    "70% <= mean score < 80%: \"C\",\n",
    "60% <= mean score < 70%: \"D\",\n",
    "mean score < 60%: \"F\"\n",
    "```\n",
    "\n",
    "\n",
    "For example, `calculate_grade([92, 94, 99])` would return \"A\" since the mean score is 95, and `calculate_grade([50, 60, 70, 80, 90])` would return \"C\" since the mean score is 70.\n",
    "\n",
    "Your function should handle an input list of any length greater than zero."
   ]
  },
  {
   "cell_type": "code",
   "execution_count": 24,
   "metadata": {
    "colab": {
     "base_uri": "https://localhost:8080/",
     "height": 68
    },
    "colab_type": "code",
    "executionInfo": {
     "elapsed": 389,
     "status": "ok",
     "timestamp": 1590531482157,
     "user": {
      "displayName": "Steve McNatt",
      "photoUrl": "https://lh3.googleusercontent.com/a-/AOh14GjFZGJy8NcE9cSCrVbJdAXrHc_AX3oZmz_5pSiczw=s64",
      "userId": "17122454985167578805"
     },
     "user_tz": 300
    },
    "id": "YK3uUu7G-hGm",
    "outputId": "c51ed8fd-7394-4f36-8ba8-b0c12541d6ac"
   },
   "outputs": [
    {
     "name": "stdout",
     "output_type": "stream",
     "text": [
      "A\n",
      "C\n",
      "B\n"
     ]
    }
   ],
   "source": [
    "def calculate_grade(grade_list):\n",
    "    grade_total = 0\n",
    "    for grade in grade_list:\n",
    "        grade_total += grade\n",
    "        \n",
    "    grade_mean = grade_total / len(grade_list)\n",
    "    if grade_mean >= 90:\n",
    "        return 'A'\n",
    "    elif grade_mean >= 80:\n",
    "        return 'B'\n",
    "    elif grade_mean >= 70:\n",
    "        return 'C'\n",
    "    elif grade_mean >= 60:\n",
    "        return 'D'\n",
    "    else:\n",
    "        return 'F'\n",
    "\n",
    "print(calculate_grade([92, 94, 99]))\n",
    "print(calculate_grade([50, 60, 70, 80, 90]))\n",
    "print(calculate_grade([80, 90, 80, 80, 90]))"
   ]
  },
  {
   "cell_type": "markdown",
   "metadata": {
    "colab_type": "text",
    "id": "83nqzAGG-hGq"
   },
   "source": [
    "## 3: `process_data`\n",
    "\n",
    "You have a two-dimensional list in the following format:\n",
    "\n",
    "```python\n",
    "data = [[2, 5], [3, 4], [8, 7]]\n",
    "```\n",
    "\n",
    "Each sub-list contains two items, and each item in the sub-lists is an integer.\n",
    "\n",
    "Write a function `process_data` that processes each sub-list like so:\n",
    "\n",
    "```\n",
    "[2, 5] --> 2 - 5 --> -3\n",
    "[3, 4] --> 3 - 4 --> -1\n",
    "[8, 7] --> 8 - 7 --> 1\n",
    "```\n",
    "\n",
    "and then returns the product of all the processed sub-lists: -3 * -1 * 1 --> 3.\n",
    "d\n",
    "For input, you can trust that neither the main list nor the sublists will be empty."
   ]
  },
  {
   "cell_type": "code",
   "execution_count": 25,
   "metadata": {
    "colab": {
     "base_uri": "https://localhost:8080/",
     "height": 68
    },
    "colab_type": "code",
    "executionInfo": {
     "elapsed": 383,
     "status": "ok",
     "timestamp": 1590531482159,
     "user": {
      "displayName": "Steve McNatt",
      "photoUrl": "https://lh3.googleusercontent.com/a-/AOh14GjFZGJy8NcE9cSCrVbJdAXrHc_AX3oZmz_5pSiczw=s64",
      "userId": "17122454985167578805"
     },
     "user_tz": 300
    },
    "id": "S4QRl-k4-hGr",
    "outputId": "142fcc14-f614-49c1-eacd-1b46bed22432"
   },
   "outputs": [
    {
     "name": "stdout",
     "output_type": "stream",
     "text": [
      "3\n",
      "-24\n",
      "30\n"
     ]
    }
   ],
   "source": [
    "def process_data(input_list):\n",
    "    new_list = [(x[0] - x[1]) for x in input_list]\n",
    "    \n",
    "    total = 1\n",
    "    for x in new_list:\n",
    "        total *= x;\n",
    "\n",
    "    return total\n",
    "\n",
    "print(process_data([[2, 5], [3, 4], [8, 7]]))\n",
    "print(process_data([[3, 5], [8, 4], [10, 7]]))\n",
    "print(process_data([[3, 5], [9, 4], [4, 7]]))"
   ]
  }
 ],
 "metadata": {
  "colab": {
   "name": "python_list_drills_starter.ipynb",
   "provenance": []
  },
  "kernelspec": {
   "display_name": "Python 3",
   "language": "python",
   "name": "python3"
  },
  "language_info": {
   "codemirror_mode": {
    "name": "ipython",
    "version": 3
   },
   "file_extension": ".py",
   "mimetype": "text/x-python",
   "name": "python",
   "nbconvert_exporter": "python",
   "pygments_lexer": "ipython3",
   "version": "3.7.0"
  }
 },
 "nbformat": 4,
 "nbformat_minor": 0
}
